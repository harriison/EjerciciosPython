{
  "cells": [
    {
      "cell_type": "markdown",
      "metadata": {
        "colab_type": "text",
        "id": "view-in-github"
      },
      "source": [
        "<a href=\"https://colab.research.google.com/github/harriison/EjerciciosPython/blob/master/Ciclo1.ipynb\" target=\"_parent\"><img src=\"https://colab.research.google.com/assets/colab-badge.svg\" alt=\"Open In Colab\"/></a>"
      ]
    },
    {
      "cell_type": "markdown",
      "metadata": {
        "id": "nuZ-XR6m2c78"
      },
      "source": [
        "Reto 1"
      ]
    },
    {
      "cell_type": "code",
      "execution_count": null,
      "metadata": {
        "id": "JAzaoG6Y2hNd"
      },
      "outputs": [],
      "source": [
        "#Falta poner algo aca"
      ]
    },
    {
      "cell_type": "markdown",
      "metadata": {
        "id": "7GRDIg1s2n_b"
      },
      "source": [
        "Reto 2"
      ]
    },
    {
      "cell_type": "code",
      "execution_count": 1,
      "metadata": {
        "id": "OHHyeXwT2r4i"
      },
      "outputs": [
        {
          "name": "stdout",
          "output_type": "stream",
          "text": [
            "EEEEEEEEEEEEEE"
          ]
        }
      ],
      "source": [
        "primeros = input()\n",
        "nuevos = input()\n",
        "ganados = input()\n",
        "\n",
        "ganaPrimeros = 0\n",
        "ganaNuevos = 0\n",
        "\n",
        "for item in ganados :\n",
        "    if item in primeros :\n",
        "        ganaPrimeros+=1\n",
        "    if item in nuevos :\n",
        "        ganaNuevos+=1\n",
        "        \n",
        "    if ganaPrimeros > ganaNuevos :\n",
        "        print(\"P\",end=\"\")\n",
        "    elif ganaNuevos > ganaPrimeros :\n",
        "        print(\"N\",end=\"\")\n",
        "    else :\n",
        "        print(\"E\",end=\"\")"
      ]
    },
    {
      "cell_type": "markdown",
      "metadata": {
        "id": "FzHqyPS55jAm"
      },
      "source": [
        "Reto 3 - Enunciado\r\n",
        "\r\n",
        "Se ha encontrado dentro de un computador incautado a los espías enemigos, un texto al parecer encriptado. Parece que contiene las coordenadas y la ubicación de una caja fuerte, de la cual desconocen su contenido pero que intuyen que ha de ser muy importante. \r\n",
        "\r\n",
        "Una de las pistas que siguen es contar la cantidad de veces que se repiten los símbolos en dicha cadena. Por tanto, usted debe escribir un programa que reciba una cadena de símbolos y devuelva una fila con los símbolos encontrados y otra fila que contiene las veces que se repite cada símbolo respectivamente.\r\n",
        "\r\n",
        "Entrada\r\n",
        "\r\n",
        "Salida\r\n",
        "\r\n",
        "$ $ 5 @ @ @ @ G G H H H 4 4 @ J F F F F H H H H\r\n",
        "\r\n",
        "$ 5 @ G H 4 @ J F H\r\n",
        "2 1 4 2 3 2 1 1 4 4\r\n",
        "\r\n",
        "3 3 * / / + + + + * * * Y Y 2 2 2 J J 2 F\r\n",
        "\r\n",
        "3 * / + * Y 2 J 2 F\r\n",
        "2 1 2 4 3 2 3 2 1 1\r\n"
      ]
    },
    {
      "cell_type": "code",
      "execution_count": null,
      "metadata": {},
      "outputs": [],
      "source": [
        "lista = input().split(\" \")\r\n",
        "diccionario={}\r\n",
        "repetidos=\"\"\r\n",
        "cantidad=0\r\n",
        "anterior=lista[0]\r\n",
        "simbolos=anterior+\" \"\r\n",
        "for simbolo in lista:\r\n",
        "    if simbolo != anterior:\r\n",
        "        if cantidad > 0:\r\n",
        "            repetidos+=str(cantidad)+\" \"     \r\n",
        "        anterior = simbolo\r\n",
        "        simbolos += simbolo+\" \"\r\n",
        "        cantidad=1\r\n",
        "    else:\r\n",
        "        cantidad+=1\r\n",
        "repetidos+=str(cantidad)        \r\n",
        "\r\n",
        "print (lista)\r\n",
        "print (simbolos)\r\n",
        "print (repetidos)"
      ]
    },
    {
      "cell_type": "markdown",
      "metadata": {},
      "source": [
        "Reto 4 - Armando mi pc\r\n",
        "\r\n",
        "Juan Carlos es un gamer y no ha encontrado un equipo que satisfaga plenamente sus necesidades, por tanto, el quiere armar su propio computador y para esto ha hecho una lista de las partes que necesita. En milago tienen una lista de precios y antes de comenzar la compra el quisiera saber, qué partes encuentra en este lugar y cuál sería el costo total. Usted debe escribir un programa que reciba la lista de productos con su respectivo precio y la lista de las partes requeridas separadas por espacio, y como salida entregue el valor total y la lista de productos que se encuentran en la tienda.\r\n",
        "\r\n",
        "Entrada\r\n",
        "\r\n",
        "Salida\r\n",
        "\r\n",
        "{\"escritorio\": 806961, \"teclado\": 707115, \"multitoma\": 326499, \"ventiladores\": 934801, \"torre\": 230817, \"procesador\": 313342, \"motherboard\": 316566}\r\n",
        "mouse escritorio teclado multitoma cables ssd memoria control\r\n",
        "\r\n",
        "1840575\r\n",
        "escritorio teclado multitoma\r\n",
        "\r\n",
        "{\"mouse\": 655222, \"monitor\": 909406, \"motherboard\": 887399, \"teclado\": 687087, \"control\": 329269, \"ventiladores\": 838369, \"procesador\": 281355, \"torre\": 176657}\r\n",
        "multitoma torre monitor teclado escritorio memoria\r\n",
        "\r\n",
        "1773150\r\n",
        "torre monitor teclado\r\n",
        "\r\n"
      ]
    },
    {
      "cell_type": "code",
      "execution_count": null,
      "metadata": {},
      "outputs": [],
      "source": [
        "import json\r\n",
        "\r\n",
        "cotizacion=str(input())\r\n",
        "cotizacion=json.loads(cotizacion)\r\n",
        "listado = str(input()).split(\" \")\r\n",
        "valorAPagar= int()\r\n",
        "articulosEncontrados = str()\r\n",
        "\r\n",
        "for parte in listado:\r\n",
        "    if parte in cotizacion:\r\n",
        "        valorAPagar+= cotizacion[parte]\r\n",
        "        articulosEncontrados += parte+\" \"\r\n",
        "\r\n",
        "print(str(valorAPagar))\r\n",
        "print (articulosEncontrados)\r\n"
      ]
    },
    {
      "cell_type": "markdown",
      "metadata": {},
      "source": []
    }
  ],
  "metadata": {
    "colab": {
      "authorship_tag": "ABX9TyMtZkqI1XTPfa0KKSsNpNze",
      "collapsed_sections": [],
      "include_colab_link": true,
      "name": "PruebaHA.ipynb",
      "provenance": []
    },
    "interpreter": {
      "hash": "ce1e901da04acbe50dd99cd0d91cb411cb2166c3507dec81ce620981a8df4741"
    },
    "kernelspec": {
      "display_name": "Python 3.9.5 64-bit",
      "name": "python3"
    },
    "language_info": {
      "name": "python",
      "version": ""
    }
  },
  "nbformat": 4,
  "nbformat_minor": 0
}