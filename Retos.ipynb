{
  "nbformat": 4,
  "nbformat_minor": 0,
  "metadata": {
    "colab": {
      "name": "PruebaHA.ipynb",
      "provenance": [],
      "collapsed_sections": [],
      "authorship_tag": "ABX9TyMtZkqI1XTPfa0KKSsNpNze",
      "include_colab_link": true
    },
    "kernelspec": {
      "name": "python3",
      "display_name": "Python 3"
    },
    "language_info": {
      "name": "python"
    }
  },
  "cells": [
    {
      "cell_type": "markdown",
      "metadata": {
        "id": "view-in-github",
        "colab_type": "text"
      },
      "source": [
        "<a href=\"https://colab.research.google.com/github/harriison/EjerciciosPython/blob/master/Ciclo1.ipynb\" target=\"_parent\"><img src=\"https://colab.research.google.com/assets/colab-badge.svg\" alt=\"Open In Colab\"/></a>"
      ]
    },
    {
      "cell_type": "markdown",
      "metadata": {
        "id": "nuZ-XR6m2c78"
      },
      "source": [
        "Reto 1"
      ]
    },
    {
      "cell_type": "code",
      "metadata": {
        "id": "JAzaoG6Y2hNd"
      },
      "source": [
        "#Falta poner algo aca"
      ],
      "execution_count": null,
      "outputs": []
    },
    {
      "cell_type": "markdown",
      "metadata": {
        "id": "7GRDIg1s2n_b"
      },
      "source": [
        "Reto 2"
      ]
    },
    {
      "cell_type": "code",
      "metadata": {
        "id": "OHHyeXwT2r4i"
      },
      "source": [
        "primeros = input()\n",
        "nuevos = input()\n",
        "ganados = input()\n",
        "\n",
        "ganaPrimeros = 0\n",
        "ganaNuevos = 0\n",
        "\n",
        "for item in ganados :\n",
        "    if item in primeros :\n",
        "        ganaPrimeros+=1\n",
        "    if item in nuevos :\n",
        "        ganaNuevos+=1\n",
        "        \n",
        "    if ganaPrimeros > ganaNuevos :\n",
        "        print(\"P\",end=\"\")\n",
        "    elif ganaNuevos > ganaPrimeros :\n",
        "        print(\"N\",end=\"\")\n",
        "    else :\n",
        "        print(\"E\",end=\"\")"
      ],
      "execution_count": null,
      "outputs": []
    },
    {
      "cell_type": "markdown",
      "metadata": {
        "id": "FzHqyPS55jAm"
      },
      "source": [
        "Otra edicion, quedara guardado en git?"
      ]
    }
  ]
}
